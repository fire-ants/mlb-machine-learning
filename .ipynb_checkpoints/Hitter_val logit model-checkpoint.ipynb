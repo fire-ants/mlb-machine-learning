{
 "cells": [
  {
   "cell_type": "code",
   "execution_count": 8,
   "metadata": {
    "collapsed": true
   },
   "outputs": [],
   "source": [
    "from sklearn import datasets\n",
    "from sklearn import preprocessing\n",
    "from sklearn.datasets import make_classification\n",
    "from sklearn.ensemble import (ExtraTreesClassifier, RandomTreesEmbedding, RandomForestClassifier)\n",
    "from sklearn.preprocessing import OneHotEncoder\n",
    "import numpy as np\n",
    "import matplotlib.pyplot as plt\n",
    "import pandas as pd"
   ]
  },
  {
   "cell_type": "code",
   "execution_count": 5,
   "metadata": {
    "collapsed": true
   },
   "outputs": [],
   "source": [
    "from sklearn.model_selection import train_test_split\n",
    "from sklearn.pipeline import make_pipeline\n",
    "from sklearn import linear_model, decomposition, datasets"
   ]
  },
  {
   "cell_type": "code",
   "execution_count": 2,
   "metadata": {},
   "outputs": [
    {
     "data": {
      "text/plain": [
       "'C:\\\\Users\\\\goyetc\\\\mlb-machine-learning'"
      ]
     },
     "execution_count": 2,
     "metadata": {},
     "output_type": "execute_result"
    }
   ],
   "source": [
    "import os\n",
    "cwd = os.getcwd()\n",
    "cwd"
   ]
  },
  {
   "cell_type": "code",
   "execution_count": 33,
   "metadata": {},
   "outputs": [],
   "source": [
    "def hv_model(data, features):\n",
    "    \n",
    "    #import data\n",
    "    raw = pd.read_csv(data, encoding = \"utf-8-sig\")\n",
    "    \n",
    "    #select features to incorporate into model\n",
    "    var_interest = raw[features]\n",
    "    \n",
    "    #remove missing values\n",
    "    var_interest = var_interest.dropna(axis = 0)\n",
    "    \n",
    "    #zone is categorical, prep for encoding\n",
    "    if 'zone' in var_interest:\n",
    "        var_interest['zone'] = var_interest['zone'].astype(object)\n",
    "        \n",
    "    #segment data into feature space and label space\n",
    "    \n",
    "    #feature space: variables of interest without the labeled (binary) HVAL associated with each row/event\n",
    "    global X\n",
    "    X = var_interest.drop(['hv_binary'], axis = 1)\n",
    "    \n",
    "    #label space: binary representation of hitter_val: if hv <0, 1; else, 0. \n",
    "    Y = var_interest[['hv_binary']]\n",
    "    \n",
    "    #Create count_type features from \"B-S\" feature\n",
    "    \n",
    "    X['Balls'] = X['count'].apply(lambda x: x[:1])\n",
    "    X['Strikes'] = X['count'].apply(lambda x: x[-1:])\n",
    "    \n",
    "    #e.g., if balls > strikes, 'Count_type' = behind. \n",
    "    #note: count type is from pitcher's perspective\n",
    "    conditions = [(X['Balls'] > X['Strikes']), (X['Balls'] < X['Strikes'])]\n",
    "    choices = ['Behind', 'Ahead']\n",
    "    X['Count_type'] = np.select(conditions, choices, default='Even')\n",
    "    \n",
    "    #Drop unneeded columns\n",
    "    X = X.drop(['count','Balls','Strikes'], axis = 1)\n",
    "    \n",
    "    zone = X['zone'].to_frame()\n",
    "    \n",
    "    #Encode categorical predictor data as numerical features.. this could be cleaned up\n",
    "    label_encode = preprocessing.LabelEncoder() \n",
    "    global X_encoded\n",
    "    X_encoded = X.apply(label_encode.fit_transform)\n",
    "    X_encoded = X_encoded.drop(['zone'],axis=1)\n",
    "    \n",
    "    #re-insert zone feature w/o encoding, to maintain original numerical values\n",
    "    X_encoded = pd.merge(X_encoded, zone, left_index = True, right_index = True)\n",
    "    \n",
    "    \n",
    "    #Create one_hot encoded predictor array for logistic regression\n",
    "    X_hot = pd.get_dummies(X)\n",
    "    \n",
    "    #Split up train and test data, 80/20 split\n",
    "    X_hot_train, X_hot_test, y_train, y_test = train_test_split(X_hot, Y, test_size = 0.2)\n",
    "    \n",
    "    #initiate ExtraTreesClassifier for feature importance estimation. \n",
    "\n",
    "    #From sklearn doc: This class implements a meta estimator that fits a number of randomized decision trees (a.k.a. extra-trees) \n",
    "    #on various sub-samples of the dataset and use averaging to improve the predictive accuracy and control over-fitting.\n",
    "\n",
    "    forest = ExtraTreesClassifier(n_estimators = 33, random_state = None)\n",
    "    #fit ExtraTreesClassifier to encoded categorical indicators, pitch type to binary hitter_val Y\n",
    "    forest.fit(X_hot_train, y_train.values.ravel())\n",
    "    \n",
    "    #Logistic regression model\n",
    "    logit_reg = linear_model.LogisticRegression()\n",
    "\n",
    "    #linear regression on one_hot data, using separate training set\n",
    "    model = logit_reg.fit(X_hot_train, y_train.values.ravel())\n",
    "    \n",
    "    print(\"Mean accuracy on given test data and labels:\", model.score(X_hot_test, y_test))\n",
    "    print(\"\")\n",
    "    print(\"Mean hitter_val, e.g, accuracy if all chosen as positive outcome:\", y_test.mean())\n",
    "    print(\"\")\n",
    "    \n",
    "    #Net feature importance- NOTE that this does not discern between good or bad outcome, just importance to model\n",
    "\n",
    "    #code borrowed and modified for visualization of ExtraTrees classifier, from sci-kit learn website: http://scikit-learn.org/stable/auto_examples/ensemble/plot_forest_importances.html#sphx-glr-auto-examples-ensemble-plot-forest-importances-py\n",
    "\n",
    "    importances = forest.feature_importances_\n",
    "    std = np.std([tree.feature_importances_ for tree in forest.estimators_],\n",
    "                 axis=0)\n",
    "    indices = np.argsort(importances)[::-1]\n",
    "\n",
    "    # Print the feature ranking\n",
    "    print(\"Feature ranking:\")\n",
    "\n",
    "    for f in range(X_hot_test.shape[1]):\n",
    "        print(\"%d. feature %d (%f)\" % (f + 1, indices[f], importances[indices[f]]))\n",
    "\n",
    "    # Plot the feature importances of the forest\n",
    "    plt.figure(figsize=(20,5))\n",
    "    plt.title(\"Feature importances\")\n",
    "    plt.bar(range(X_hot_test.shape[1]), importances[indices],\n",
    "           color=\"g\", yerr=std[indices], align=\"center\")\n",
    "    plt.xticks(range(X_hot_test.shape[1]), indices)\n",
    "    plt.xlim([-1, X_hot_test.shape[1]])\n",
    "    plt.show()\n",
    "\n",
    "    print(\"\")\n",
    "    \n",
    "    print(\"Decode features from ExtraTreesClassifier:\")\n",
    "    for c in X_hot.columns:\n",
    "        print (X_hot.columns.get_loc(c), c)\n",
    "        \n",
    "    print(\"\")\n",
    "    print(\"Results of logistic regression model\")\n",
    "    print(\"\")\n",
    "    print(\"Variable of interest, log odds, odds:\")\n",
    "    print(\"interpretation is that if any one of these variables is 'on', there is an increase (+) or decrease (-) in likelihood of a good outcome. Remember that a 'good outcome' is encoded into a modified hitter_val where '1' signifies good, aka, a negative hitter-val\")\n",
    "\n",
    "    print(\"\")\n",
    "    print(pd.DataFrame(list(zip(X_hot.columns, np.transpose(model.coef_), np.transpose(np.exp(model.coef_)-1)))))\n",
    "    \n",
    "    print(\"Column 2 represents the % increase or decrease in likelihood of a positive outcome for *any one of these feature's presence*, excluding interactions\")\n",
    "    print(\"\")\n",
    "    print(\"Some examples:\")\n",
    "    print(\"-pitch type AB shows a 21% decrease in a positive outcome\")\n",
    "    print(\"-pitch type FO increases the odds of a positive outcome by 77%\")\n",
    "    print(\"-a 'behind' count, e.g., 0-1, 0-2, demonstrates an 18% increase in positive outcome vs almost no net effect from an 'ahead' count, 2.4%\")\n",
    "  "
   ]
  },
  {
   "cell_type": "code",
   "execution_count": 34,
   "metadata": {},
   "outputs": [
    {
     "name": "stdout",
     "output_type": "stream",
     "text": [
      "Mean accuracy on given test data and labels: 0.711265635615\n",
      "\n",
      "Mean hitter_val, e.g, accuracy if all chosen as positive outcome: hv_binary    0.560964\n",
      "dtype: float64\n",
      "\n",
      "Feature ranking:\n",
      "1. feature 25 (0.213635)\n",
      "2. feature 24 (0.120339)\n",
      "3. feature 22 (0.110830)\n",
      "4. feature 23 (0.089454)\n",
      "5. feature 17 (0.056398)\n",
      "6. feature 18 (0.052953)\n",
      "7. feature 14 (0.047264)\n",
      "8. feature 16 (0.044585)\n",
      "9. feature 21 (0.044234)\n",
      "10. feature 20 (0.041666)\n",
      "11. feature 19 (0.035713)\n",
      "12. feature 13 (0.033261)\n",
      "13. feature 15 (0.033255)\n",
      "14. feature 28 (0.009024)\n",
      "15. feature 29 (0.008296)\n",
      "16. feature 11 (0.008121)\n",
      "17. feature 4 (0.007000)\n",
      "18. feature 32 (0.006735)\n",
      "19. feature 10 (0.005952)\n",
      "20. feature 30 (0.004347)\n",
      "21. feature 31 (0.004286)\n",
      "22. feature 33 (0.004284)\n",
      "23. feature 2 (0.004275)\n",
      "24. feature 34 (0.003533)\n",
      "25. feature 1 (0.003294)\n",
      "26. feature 7 (0.002701)\n",
      "27. feature 26 (0.001724)\n",
      "28. feature 27 (0.001688)\n",
      "29. feature 3 (0.000305)\n",
      "30. feature 5 (0.000303)\n",
      "31. feature 8 (0.000250)\n",
      "32. feature 12 (0.000120)\n",
      "33. feature 6 (0.000113)\n",
      "34. feature 0 (0.000037)\n",
      "35. feature 9 (0.000025)\n"
     ]
    },
    {
     "data": {
      "image/png": "[encoded data removed]",
      "text/plain": [
       "<matplotlib.figure.Figure at 0x26c31e20ef0>"
      ]
     },
     "metadata": {},
     "output_type": "display_data"
    },
    {
     "name": "stdout",
     "output_type": "stream",
     "text": [
      "\n",
      "Decode features from ExtraTreesClassifier:\n",
      "0 pitch_type_AB\n",
      "1 pitch_type_CH\n",
      "2 pitch_type_CU\n",
      "3 pitch_type_EP\n",
      "4 pitch_type_FF\n",
      "5 pitch_type_FO\n",
      "6 pitch_type_IN\n",
      "7 pitch_type_KN\n",
      "8 pitch_type_PO\n",
      "9 pitch_type_SC\n",
      "10 pitch_type_SI\n",
      "11 pitch_type_SL\n",
      "12 pitch_type_UN\n",
      "13 zone_1\n",
      "14 zone_2\n",
      "15 zone_3\n",
      "16 zone_4\n",
      "17 zone_5\n",
      "18 zone_6\n",
      "19 zone_7\n",
      "20 zone_8\n",
      "21 zone_9\n",
      "22 zone_11\n",
      "23 zone_12\n",
      "24 zone_13\n",
      "25 zone_14\n",
      "26 inning_side_bottom\n",
      "27 inning_side_top\n",
      "28 p_throws_L\n",
      "29 p_throws_R\n",
      "30 stand_L\n",
      "31 stand_R\n",
      "32 Count_type_Ahead\n",
      "33 Count_type_Behind\n",
      "34 Count_type_Even\n",
      "\n",
      "Results of logistic regression model\n",
      "\n",
      "Variable of interest, log odds, odds:\n",
      "interpretation is that if any one of these variables is 'on', there is an increase (+) or decrease (-) in likelihood of a good outcome. Remember that a 'good outcome' is encoded into a modified hitter_val where '1' signifies good, aka, a negative hitter-val\n",
      "\n",
      "                     0                   1                   2\n",
      "0        pitch_type_AB   [-0.653457590049]   [-0.479756126605]\n",
      "1        pitch_type_CH    [0.415251510922]    [0.514751669375]\n",
      "2        pitch_type_CU     [0.35063787175]    [0.419973020451]\n",
      "3        pitch_type_EP   [-0.479961839738]   [-0.381192994807]\n",
      "4        pitch_type_FF    [0.347805010214]    [0.415956125838]\n",
      "5        pitch_type_FO    [0.431888506473]    [0.540163387339]\n",
      "6        pitch_type_IN    [0.305490824286]    [0.357291030943]\n",
      "7        pitch_type_KN      [0.4080973853]    [0.503953617013]\n",
      "8        pitch_type_PO    [-1.85236587934]   [-0.843134398138]\n",
      "9        pitch_type_SC    [0.216162577877]    [0.241304171194]\n",
      "10       pitch_type_SI    [0.304142063089]    [0.355461603475]\n",
      "11       pitch_type_SL    [0.496944671749]    [0.643691573625]\n",
      "12       pitch_type_UN  [-0.0804891112417]  [-0.0773350497953]\n",
      "13              zone_1    [0.759354622246]     [1.13689666981]\n",
      "14              zone_2    [0.811770683658]     [1.25189184665]\n",
      "15              zone_3    [0.800452577696]     [1.22654838664]\n",
      "16              zone_4     [0.64148210184]    [0.899293741065]\n",
      "17              zone_5    [0.575252347386]    [0.777579037745]\n",
      "18              zone_6    [0.689440169445]    [0.992599702736]\n",
      "19              zone_7    [0.610056034655]     [0.84053452961]\n",
      "20              zone_8    [0.575006531719]    [0.777142134669]\n",
      "21              zone_9    [0.640806940182]    [0.898011843545]\n",
      "22             zone_11     [-1.4615572702]    [-0.76812509845]\n",
      "23             zone_12    [-1.26904763061]   [-0.718900795383]\n",
      "24             zone_13    [-1.50101992829]   [-0.777097300598]\n",
      "25             zone_14    [-1.66185117627]   [-0.810212675078]\n",
      "26  inning_side_bottom   [0.0935154113441]   [0.0980275252909]\n",
      "27     inning_side_top    [0.116630594399]    [0.123704250367]\n",
      "28          p_throws_L   [0.0860393518449]   [0.0898492150385]\n",
      "29          p_throws_R    [0.124106659452]    [0.132136617631]\n",
      "30             stand_L   [0.0702654000762]   [0.0727928627828]\n",
      "31             stand_R    [0.139880605285]    [0.150136470443]\n",
      "32    Count_type_Ahead   [0.0145299738725]   [0.0146360470671]\n",
      "33   Count_type_Behind     [0.13899734118]    [0.149121044694]\n",
      "34     Count_type_Even   [0.0566186869431]   [0.0582522080666]\n",
      "Column 2 represents the % increase or decrease in likelihood of a positive outcome for *any one of these feature's presence*, excluding interactions\n",
      "\n",
      "Some examples:\n",
      "-pitch type AB shows a 21% decrease in a positive outcome\n",
      "-pitch type FO increases the odds of a positive outcome by 77%\n",
      "-a 'behind' count, e.g., 0-1, 0-2, demonstrates an 18% increase in positive outcome vs almost no net effect from an 'ahead' count, 2.4%\n"
     ]
    }
   ],
   "source": [
    "hv_model(\"rawdata_ML_test.csv\", ['pitch_type','zone','inning_side','p_throws','stand','count','hv_binary'])"
   ]
  },
  {
   "cell_type": "code",
   "execution_count": null,
   "metadata": {
    "collapsed": true
   },
   "outputs": [],
   "source": [
    "# show plots in the notebook\n",
    "# inspiration from http://nbviewer.jupyter.org/gist/justmarkham/6d5c061ca5aee67c4316471f8c2ae976\n",
    "%matplotlib inline"
   ]
  },
  {
   "cell_type": "code",
   "execution_count": 30,
   "metadata": {},
   "outputs": [
    {
     "data": {
      "text/plain": [
       "Text(0,0.5,'Frequency')"
      ]
     },
     "execution_count": 30,
     "metadata": {},
     "output_type": "execute_result"
    },
    {
     "data": {
      "image/png": "[encoded data removed]",
      "text/plain": [
       "<matplotlib.figure.Figure at 0x26c13856ef0>"
      ]
     },
     "metadata": {},
     "output_type": "display_data"
    }
   ],
   "source": [
    "X_encoded.pitch_type.hist(bins=11)\n",
    "plt.title('Pitch Type Histogram')\n",
    "plt.xlabel('Pitch Type')\n",
    "plt.ylabel('Frequency')\n",
    "\n",
    "#interesting that some pitch types are very rare compared to others"
   ]
  }
 ],
 "metadata": {
  "anaconda-cloud": {},
  "kernelspec": {
   "display_name": "Python 3",
   "language": "python",
   "name": "python3"
  },
  "language_info": {
   "codemirror_mode": {
    "name": "ipython",
    "version": 3
   },
   "file_extension": ".py",
   "mimetype": "text/x-python",
   "name": "python",
   "nbconvert_exporter": "python",
   "pygments_lexer": "ipython3",
   "version": "3.6.3"
  }
 },
 "nbformat": 4,
 "nbformat_minor": 1
}
