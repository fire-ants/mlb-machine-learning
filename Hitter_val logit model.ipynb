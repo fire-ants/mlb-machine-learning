{
 "cells": [
  {
   "cell_type": "code",
   "execution_count": 2,
   "metadata": {
    "collapsed": true
   },
   "outputs": [],
   "source": [
    "#from sklearn import datasets\n",
    "from sklearn import preprocessing\n",
    "from sklearn.datasets import make_classification\n",
    "from sklearn.ensemble import (ExtraTreesClassifier, RandomTreesEmbedding, RandomForestClassifier)\n",
    "from sklearn.preprocessing import OneHotEncoder\n",
    "import numpy as np\n",
    "import matplotlib.pyplot as plt\n",
    "import pandas as pd"
   ]
  },
  {
   "cell_type": "code",
   "execution_count": 3,
   "metadata": {
    "collapsed": true
   },
   "outputs": [],
   "source": [
    "from sklearn.model_selection import train_test_split\n",
    "from sklearn.pipeline import make_pipeline\n",
    "from sklearn import linear_model, decomposition, datasets"
   ]
  },
  {
   "cell_type": "code",
   "execution_count": 5,
   "metadata": {},
   "outputs": [
    {
     "data": {
      "text/plain": [
       "'C:\\\\Users\\\\goyetc\\\\mlb-machine-learning'"
      ]
     },
     "execution_count": 5,
     "metadata": {},
     "output_type": "execute_result"
    }
   ],
   "source": [
    "import os\n",
    "os.getcwd()"
   ]
  },
  {
   "cell_type": "code",
   "execution_count": 6,
   "metadata": {
    "collapsed": true
   },
   "outputs": [],
   "source": [
    "def hv_model(data, features):\n",
    "    \n",
    "    #import data\n",
    "    raw = pd.read_csv(data, encoding = \"utf-8-sig\")\n",
    "    \n",
    "    #select features to incorporate into model\n",
    "    var_interest = raw[features]\n",
    "    \n",
    "    #remove missing values\n",
    "    var_interest = var_interest.dropna(axis = 0)\n",
    "    \n",
    "    #zone is categorical, prep for encoding\n",
    "    if 'zone' in var_interest:\n",
    "        var_interest['zone'] = var_interest['zone'].astype(object)\n",
    "        \n",
    "    #segment data into feature space and label space\n",
    "    \n",
    "    #feature space: variables of interest without the labeled (binary) HVAL associated with each row/event\n",
    "    global X\n",
    "    X = var_interest.drop(['hv_binary'], axis = 1)\n",
    "    \n",
    "    #label space: binary representation of hitter_val: if hv <0, 1; else, 0. \n",
    "    Y = var_interest[['hv_binary']]\n",
    "    \n",
    "    #Create count_type features from \"B-S\" feature\n",
    "    \n",
    "    X['Balls'] = X['count'].apply(lambda x: x[:1])\n",
    "    X['Strikes'] = X['count'].apply(lambda x: x[-1:])\n",
    "    \n",
    "    #e.g., if balls > strikes, 'Count_type' = behind. \n",
    "    #note: count type is from pitcher's perspective\n",
    "    conditions = [(X['Balls'] > X['Strikes']), (X['Balls'] < X['Strikes'])]\n",
    "    choices = ['Behind', 'Ahead']\n",
    "    X['Count_type'] = np.select(conditions, choices, default='Even')\n",
    "    \n",
    "    #Drop unneeded columns\n",
    "    X = X.drop(['count','Balls','Strikes'], axis = 1)\n",
    "    \n",
    "    zone = X['zone'].to_frame()\n",
    "    \n",
    "    #Encode categorical predictor data as numerical features.. this could be cleaned up\n",
    "    label_encode = preprocessing.LabelEncoder() \n",
    "    global X_encoded\n",
    "    X_encoded = X.apply(label_encode.fit_transform)\n",
    "    X_encoded = X_encoded.drop(['zone'],axis=1)\n",
    "    \n",
    "    #re-insert zone feature w/o encoding, to maintain original numerical values\n",
    "    X_encoded = pd.merge(X_encoded, zone, left_index = True, right_index = True)\n",
    "    \n",
    "    \n",
    "    #Create one_hot encoded predictor array for logistic regression\n",
    "    X_hot = pd.get_dummies(X)\n",
    "    \n",
    "    #Split up train and test data, 80/20 split\n",
    "    X_hot_train, X_hot_test, y_train, y_test = train_test_split(X_hot, Y, test_size = 0.2)\n",
    "    \n",
    "    #initiate ExtraTreesClassifier for feature importance estimation. \n",
    "\n",
    "    #From sklearn doc: This class implements a meta estimator that fits a number of randomized decision trees (a.k.a. extra-trees) \n",
    "    #on various sub-samples of the dataset and use averaging to improve the predictive accuracy and control over-fitting.\n",
    "\n",
    "    forest = ExtraTreesClassifier(n_estimators = 33, random_state = None)\n",
    "    #fit ExtraTreesClassifier to encoded categorical indicators, pitch type to binary hitter_val Y\n",
    "    forest.fit(X_hot_train, y_train.values.ravel())\n",
    "    \n",
    "    #Logistic regression model\n",
    "    logit_reg = linear_model.LogisticRegression()\n",
    "\n",
    "    #linear regression on one_hot data, using separate training set\n",
    "    model = logit_reg.fit(X_hot_train, y_train.values.ravel())\n",
    "    \n",
    "    print(\"Mean accuracy on given test data and labels:\", model.score(X_hot_test, y_test))\n",
    "    print(\"\")\n",
    "    print(\"Mean hitter_val, e.g, accuracy if all chosen as positive outcome:\", y_test.mean())\n",
    "    print(\"\")\n",
    "    \n",
    "    #Net feature importance- NOTE that this does not discern between good or bad outcome, just importance to model\n",
    "\n",
    "    #code borrowed and modified for visualization of ExtraTrees classifier, from sci-kit learn website: http://scikit-learn.org/stable/auto_examples/ensemble/plot_forest_importances.html#sphx-glr-auto-examples-ensemble-plot-forest-importances-py\n",
    "\n",
    "    importances = forest.feature_importances_\n",
    "    std = np.std([tree.feature_importances_ for tree in forest.estimators_],\n",
    "                 axis=0)\n",
    "    indices = np.argsort(importances)[::-1]\n",
    "\n",
    "    # Print the feature ranking\n",
    "    print(\"Feature ranking:\")\n",
    "\n",
    "    for f in range(X_hot_test.shape[1]):\n",
    "        print(\"%d. feature %d (%f)\" % (f + 1, indices[f], importances[indices[f]]))\n",
    "\n",
    "    # Plot the feature importances of the forest\n",
    "    plt.figure(figsize=(20,5))\n",
    "    plt.title(\"Feature importances\")\n",
    "    plt.bar(range(X_hot_test.shape[1]), importances[indices],\n",
    "           color=\"g\", yerr=std[indices], align=\"center\")\n",
    "    plt.xticks(range(X_hot_test.shape[1]), indices)\n",
    "    plt.xlim([-1, X_hot_test.shape[1]])\n",
    "    plt.show()\n",
    "\n",
    "    print(\"\")\n",
    "    \n",
    "    print(\"Decode features from ExtraTreesClassifier:\")\n",
    "    for c in X_hot.columns:\n",
    "        print (X_hot.columns.get_loc(c), c)\n",
    "        \n",
    "    print(\"\")\n",
    "    print(\"Results of logistic regression model\")\n",
    "    print(\"\")\n",
    "    print(\"Variable of interest, log odds, odds:\")\n",
    "    print(\"interpretation is that if any one of these variables is 'on', there is an increase (+) or decrease (-) in likelihood of a good outcome. Remember that a 'good outcome' is encoded into a modified hitter_val where '1' signifies good, aka, a negative hitter-val\")\n",
    "\n",
    "    print(\"\")\n",
    "    print(pd.DataFrame(list(zip(X_hot.columns, np.transpose(model.coef_), np.transpose(np.exp(model.coef_)-1)))))\n",
    "    \n",
    "    print(\"Column 2 represents the % increase or decrease in likelihood of a positive outcome for *any one of these feature's presence*, excluding interactions\")\n",
    "    print(\"\")\n",
    "    print(\"Some examples:\")\n",
    "    print(\"-pitch type AB shows a 21% decrease in a positive outcome\")\n",
    "    print(\"-pitch type FO increases the odds of a positive outcome by 77%\")\n",
    "    print(\"-a 'behind' count, e.g., 0-1, 0-2, demonstrates an 18% increase in positive outcome vs almost no net effect from an 'ahead' count, 2.4%\")\n",
    "  "
   ]
  },
  {
   "cell_type": "code",
   "execution_count": 7,
   "metadata": {},
   "outputs": [
    {
     "name": "stdout",
     "output_type": "stream",
     "text": [
      "Mean accuracy on given test data and labels: 0.711505415018\n",
      "\n",
      "Mean hitter_val, e.g, accuracy if all chosen as positive outcome: hv_binary    0.560165\n",
      "dtype: float64\n",
      "\n",
      "Feature ranking:\n",
      "1. feature 25 (0.212133)\n",
      "2. feature 24 (0.138304)\n",
      "3. feature 22 (0.112216)\n",
      "4. feature 23 (0.086879)\n",
      "5. feature 17 (0.056737)\n",
      "6. feature 18 (0.051663)\n",
      "7. feature 16 (0.046228)\n",
      "8. feature 14 (0.043816)\n",
      "9. feature 20 (0.039186)\n",
      "10. feature 21 (0.038957)\n",
      "11. feature 15 (0.032907)\n",
      "12. feature 13 (0.032805)\n",
      "13. feature 19 (0.029568)\n",
      "14. feature 29 (0.009917)\n",
      "15. feature 28 (0.008758)\n",
      "16. feature 11 (0.008026)\n",
      "17. feature 4 (0.006481)\n",
      "18. feature 32 (0.006018)\n",
      "19. feature 33 (0.005655)\n",
      "20. feature 10 (0.005655)\n",
      "21. feature 30 (0.005176)\n",
      "22. feature 31 (0.004470)\n",
      "23. feature 2 (0.004135)\n",
      "24. feature 34 (0.003585)\n",
      "25. feature 1 (0.003507)\n",
      "26. feature 7 (0.002560)\n",
      "27. feature 26 (0.001782)\n",
      "28. feature 27 (0.001710)\n",
      "29. feature 3 (0.000350)\n",
      "30. feature 5 (0.000268)\n",
      "31. feature 8 (0.000243)\n",
      "32. feature 12 (0.000124)\n",
      "33. feature 6 (0.000094)\n",
      "34. feature 0 (0.000058)\n",
      "35. feature 9 (0.000030)\n"
     ]
    },
    {
     "data": {
      "image/png": "[encoded data removed]",
      "text/plain": [
       "<matplotlib.figure.Figure at 0x1d80794b9e8>"
      ]
     },
     "metadata": {},
     "output_type": "display_data"
    },
    {
     "name": "stdout",
     "output_type": "stream",
     "text": [
      "\n",
      "Decode features from ExtraTreesClassifier:\n",
      "0 pitch_type_AB\n",
      "1 pitch_type_CH\n",
      "2 pitch_type_CU\n",
      "3 pitch_type_EP\n",
      "4 pitch_type_FF\n",
      "5 pitch_type_FO\n",
      "6 pitch_type_IN\n",
      "7 pitch_type_KN\n",
      "8 pitch_type_PO\n",
      "9 pitch_type_SC\n",
      "10 pitch_type_SI\n",
      "11 pitch_type_SL\n",
      "12 pitch_type_UN\n",
      "13 zone_1\n",
      "14 zone_2\n",
      "15 zone_3\n",
      "16 zone_4\n",
      "17 zone_5\n",
      "18 zone_6\n",
      "19 zone_7\n",
      "20 zone_8\n",
      "21 zone_9\n",
      "22 zone_11\n",
      "23 zone_12\n",
      "24 zone_13\n",
      "25 zone_14\n",
      "26 inning_side_bottom\n",
      "27 inning_side_top\n",
      "28 p_throws_L\n",
      "29 p_throws_R\n",
      "30 stand_L\n",
      "31 stand_R\n",
      "32 Count_type_Ahead\n",
      "33 Count_type_Behind\n",
      "34 Count_type_Even\n",
      "\n",
      "Results of logistic regression model\n",
      "\n",
      "Variable of interest, log odds, odds:\n",
      "interpretation is that if any one of these variables is 'on', there is an increase (+) or decrease (-) in likelihood of a good outcome. Remember that a 'good outcome' is encoded into a modified hitter_val where '1' signifies good, aka, a negative hitter-val\n",
      "\n",
      "                     0                  1                  2\n",
      "0        pitch_type_AB  [-0.911778778134]  [-0.598191140828]\n",
      "1        pitch_type_CH   [0.425804219015]   [0.530821040143]\n",
      "2        pitch_type_CU    [0.34696824713]   [0.414771801592]\n",
      "3        pitch_type_EP  [-0.468045248131]  [-0.373774812503]\n",
      "4        pitch_type_FF   [0.346514836961]   [0.414130475073]\n",
      "5        pitch_type_FO   [0.381735271996]   [0.464824253799]\n",
      "6        pitch_type_IN   [0.332074219985]   [0.393856296667]\n",
      "7        pitch_type_KN   [0.409506749187]   [0.506074729286]\n",
      "8        pitch_type_PO   [-1.81849886185]  [-0.837730843383]\n",
      "9        pitch_type_SC   [0.318053615085]   [0.374449950503]\n",
      "10       pitch_type_SI   [0.310291324064]    [0.36382237054]\n",
      "11       pitch_type_SL   [0.504108165559]   [0.655508422468]\n",
      "12       pitch_type_UN  [0.0338553160086]   [0.034434929726]\n",
      "13              zone_1    [0.74217827676]    [1.10050601822]\n",
      "14              zone_2   [0.812165236522]    [1.25278051233]\n",
      "15              zone_3   [0.835386304277]    [1.30570457981]\n",
      "16              zone_4   [0.654918415972]   [0.924985462901]\n",
      "17              zone_5   [0.571941845999]   [0.771704089752]\n",
      "18              zone_6   [0.696535859024]    [1.00678885305]\n",
      "19              zone_7   [0.622723233057]   [0.863997235306]\n",
      "20              zone_8   [0.555506064996]   [0.742822743227]\n",
      "21              zone_9   [0.617414785178]    [0.85412852009]\n",
      "22             zone_11    [-1.4656327138]  [-0.769068168514]\n",
      "23             zone_12    [-1.2599265914]   [-0.71632515009]\n",
      "24             zone_13   [-1.50091022627]  [-0.777072846379]\n",
      "25             zone_14   [-1.67171141265]  [-0.812074827246]\n",
      "26  inning_side_bottom   [0.089480088068]   [0.093605557296]\n",
      "27     inning_side_top   [0.121108986683]   [0.128747924156]\n",
      "28          p_throws_L  [0.0871403861951]  [0.0910498373027]\n",
      "29          p_throws_R   [0.123448688801]   [0.131391949975]\n",
      "30             stand_L  [0.0718025138869]  [0.0744431355118]\n",
      "31             stand_R   [0.138786561398]   [0.148878858735]\n",
      "32    Count_type_Ahead  [0.0142418145817]  [0.0143437123849]\n",
      "33   Count_type_Behind   [0.142201334728]   [0.152808725605]\n",
      "34     Count_type_Even  [0.0541459265728]  [0.0556386366443]\n",
      "Column 2 represents the % increase or decrease in likelihood of a positive outcome for *any one of these feature's presence*, excluding interactions\n",
      "\n",
      "Some examples:\n",
      "-pitch type AB shows a 21% decrease in a positive outcome\n",
      "-pitch type FO increases the odds of a positive outcome by 77%\n",
      "-a 'behind' count, e.g., 0-1, 0-2, demonstrates an 18% increase in positive outcome vs almost no net effect from an 'ahead' count, 2.4%\n"
     ]
    }
   ],
   "source": [
    "hv_model(\"rawdata_ML.csv\", ['pitch_type','zone','inning_side','p_throws','stand','count','hv_binary'])"
   ]
  },
  {
   "cell_type": "code",
   "execution_count": 1,
   "metadata": {},
   "outputs": [],
   "source": [
    "# show plots in the notebook\n",
    "# inspiration from http://nbviewer.jupyter.org/gist/justmarkham/6d5c061ca5aee67c4316471f8c2ae976\n",
    "%matplotlib inline"
   ]
  },
  {
   "cell_type": "code",
   "execution_count": 10,
   "metadata": {},
   "outputs": [
    {
     "data": {
      "text/plain": [
       "Text(0,0.5,'Frequency')"
      ]
     },
     "execution_count": 10,
     "metadata": {},
     "output_type": "execute_result"
    },
    {
     "data": {
      "image/png": "[encoded data removed]",
      "text/plain": [
       "<matplotlib.figure.Figure at 0x1d804ae9358>"
      ]
     },
     "metadata": {},
     "output_type": "display_data"
    }
   ],
   "source": [
    "X_encoded.pitch_type.hist(bins=11)\n",
    "plt.title('Pitch Type Histogram')\n",
    "plt.xlabel('Pitch Type')\n",
    "plt.ylabel('Frequency')\n",
    "\n",
    "#interesting that some pitch types are very rare compared to others"
   ]
  }
 ],
 "metadata": {
  "anaconda-cloud": {},
  "kernelspec": {
   "display_name": "Python 3",
   "language": "python",
   "name": "python3"
  },
  "language_info": {
   "codemirror_mode": {
    "name": "ipython",
    "version": 3
   },
   "file_extension": ".py",
   "mimetype": "text/x-python",
   "name": "python",
   "nbconvert_exporter": "python",
   "pygments_lexer": "ipython3",
   "version": "3.6.4"
  }
 },
 "nbformat": 4,
 "nbformat_minor": 1
}
